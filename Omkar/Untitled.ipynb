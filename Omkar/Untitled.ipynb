{
 "cells": [
  {
   "cell_type": "code",
   "execution_count": 1,
   "id": "4a48339a",
   "metadata": {},
   "outputs": [],
   "source": [
    "import os\n",
    "import django\n",
    "os.environ.setdefault('DJANGO_SETTINGS_MODULE', 'omkar_proj.settings')\n",
    "os.environ[\"DJANGO_ALLOW_ASYNC_UNSAFE\"] = \"true\"\n",
    "django.setup()"
   ]
  },
  {
   "cell_type": "code",
   "execution_count": 2,
   "id": "843e9d4e",
   "metadata": {},
   "outputs": [],
   "source": [
    "from account.models import (\n",
    "    User,\n",
    "    Farmer,\n",
    "    Rental,\n",
    "    Investor,\n",
    ")\n",
    "from warehouse.models import (\n",
    "    Gala,\n",
    "    Property,\n",
    "    Company,\n",
    ")\n",
    "from django_pandas.io import read_frame\n",
    "from django.db.models import Count,F,Sum,OuterRef"
   ]
  },
  {
   "cell_type": "code",
   "execution_count": 3,
   "id": "6924ad91",
   "metadata": {},
   "outputs": [],
   "source": [
    "\n",
    "# # rf = Gala.objects.filter(is_allotted=True).values('uid','gala_number'\n",
    "# #                                                   ).annotate(\n",
    "# #     total_not_allotted_galas = Count('warehouse__uid'))\n",
    "# # rf\n",
    "# # rf = Property.objects.filter(company__name__exact='OMKAR').values('uid','property_name'\n",
    "# #                                     ).annotate(get_galas = Gala.objects.filter(is_allotted=False))\n",
    "\n",
    "# rf = Property.objects.filter(company__name__exact='OMKAR').values('uid','property_name'\n",
    "#                                                                  ).annotate(get_galas= Property.objects.prefetch_related('get_gala').filter(get_gala__is_allotted=False))\n",
    "\n"
   ]
  },
  {
   "cell_type": "code",
   "execution_count": 4,
   "id": "b49ec81e",
   "metadata": {},
   "outputs": [
    {
     "data": {
      "text/html": [
       "<div>\n",
       "<style scoped>\n",
       "    .dataframe tbody tr th:only-of-type {\n",
       "        vertical-align: middle;\n",
       "    }\n",
       "\n",
       "    .dataframe tbody tr th {\n",
       "        vertical-align: top;\n",
       "    }\n",
       "\n",
       "    .dataframe thead th {\n",
       "        text-align: right;\n",
       "    }\n",
       "</style>\n",
       "<table border=\"1\" class=\"dataframe\">\n",
       "  <thead>\n",
       "    <tr style=\"text-align: right;\">\n",
       "      <th></th>\n",
       "      <th>uid</th>\n",
       "      <th>property_name</th>\n",
       "      <th>total_remaining_galas</th>\n",
       "    </tr>\n",
       "  </thead>\n",
       "  <tbody>\n",
       "    <tr>\n",
       "      <th>0</th>\n",
       "      <td>2bfbb94a-b39c-4365-ae5e-f14b5b9339d6</td>\n",
       "      <td>warehouse 4</td>\n",
       "      <td>1</td>\n",
       "    </tr>\n",
       "    <tr>\n",
       "      <th>1</th>\n",
       "      <td>5d3288a4-47a6-411e-a821-b8004829aec1</td>\n",
       "      <td>warehouse 3</td>\n",
       "      <td>1</td>\n",
       "    </tr>\n",
       "  </tbody>\n",
       "</table>\n",
       "</div>"
      ],
      "text/plain": [
       "                                    uid property_name  total_remaining_galas\n",
       "0  2bfbb94a-b39c-4365-ae5e-f14b5b9339d6   warehouse 4                      1\n",
       "1  5d3288a4-47a6-411e-a821-b8004829aec1   warehouse 3                      1"
      ]
     },
     "execution_count": 4,
     "metadata": {},
     "output_type": "execute_result"
    }
   ],
   "source": [
    "rf = Company.objects.get(name='OMKAR').get_properties.all().values('uid','property_name'\n",
    "            ).annotate(total_remaining_galas =Gala.objects.filter(warehouse__uid=OuterRef('uid'),is_allotted=False\n",
    "                                                                 ).values('warehouse__uid'\n",
    "                    ).annotate(total_remaining_galas=Count('id')).values('total_remaining_galas'))\n",
    "pd = read_frame(rf)\n",
    "pd\n",
    "                               \n"
   ]
  },
  {
   "cell_type": "code",
   "execution_count": 5,
   "id": "0c62295e",
   "metadata": {},
   "outputs": [
    {
     "data": {
      "text/html": [
       "<div>\n",
       "<style scoped>\n",
       "    .dataframe tbody tr th:only-of-type {\n",
       "        vertical-align: middle;\n",
       "    }\n",
       "\n",
       "    .dataframe tbody tr th {\n",
       "        vertical-align: top;\n",
       "    }\n",
       "\n",
       "    .dataframe thead th {\n",
       "        text-align: right;\n",
       "    }\n",
       "</style>\n",
       "<table border=\"1\" class=\"dataframe\">\n",
       "  <thead>\n",
       "    <tr style=\"text-align: right;\">\n",
       "      <th></th>\n",
       "      <th>uid</th>\n",
       "      <th>property_name</th>\n",
       "      <th>property_survey_number</th>\n",
       "      <th>property_type</th>\n",
       "      <th>address</th>\n",
       "      <th>city</th>\n",
       "      <th>zipcode</th>\n",
       "      <th>country</th>\n",
       "      <th>state</th>\n",
       "      <th>company__name</th>\n",
       "      <th>total_remaining_galas</th>\n",
       "    </tr>\n",
       "  </thead>\n",
       "  <tbody>\n",
       "    <tr>\n",
       "      <th>0</th>\n",
       "      <td>2bfbb94a-b39c-4365-ae5e-f14b5b9339d6</td>\n",
       "      <td>warehouse 4</td>\n",
       "      <td>ae8ff192-1b22-4ffb-8494-42e43375fdf3</td>\n",
       "      <td>RCC</td>\n",
       "      <td>M.G Road</td>\n",
       "      <td>dewas</td>\n",
       "      <td>455115</td>\n",
       "      <td>India</td>\n",
       "      <td>M.P</td>\n",
       "      <td>OMKAR</td>\n",
       "      <td>1</td>\n",
       "    </tr>\n",
       "    <tr>\n",
       "      <th>1</th>\n",
       "      <td>5d3288a4-47a6-411e-a821-b8004829aec1</td>\n",
       "      <td>warehouse 3</td>\n",
       "      <td>4a5e1400-b07f-48d0-93b9-e8fafdfe4f13</td>\n",
       "      <td>COLD STORAGE</td>\n",
       "      <td>M.G Road</td>\n",
       "      <td>dewas</td>\n",
       "      <td>455115</td>\n",
       "      <td>India</td>\n",
       "      <td>M.P</td>\n",
       "      <td>OMKAR</td>\n",
       "      <td>1</td>\n",
       "    </tr>\n",
       "  </tbody>\n",
       "</table>\n",
       "</div>"
      ],
      "text/plain": [
       "                                    uid property_name  \\\n",
       "0  2bfbb94a-b39c-4365-ae5e-f14b5b9339d6   warehouse 4   \n",
       "1  5d3288a4-47a6-411e-a821-b8004829aec1   warehouse 3   \n",
       "\n",
       "                 property_survey_number property_type   address   city  \\\n",
       "0  ae8ff192-1b22-4ffb-8494-42e43375fdf3           RCC  M.G Road  dewas   \n",
       "1  4a5e1400-b07f-48d0-93b9-e8fafdfe4f13  COLD STORAGE  M.G Road  dewas   \n",
       "\n",
       "  zipcode country state company__name  total_remaining_galas  \n",
       "0  455115   India   M.P         OMKAR                      1  \n",
       "1  455115   India   M.P         OMKAR                      1  "
      ]
     },
     "execution_count": 5,
     "metadata": {},
     "output_type": "execute_result"
    }
   ],
   "source": [
    "get_company=Company.objects.get(name__iexact='OMKAR').get_properties.all(\n",
    "                ).values(\"uid\",\"property_name\",\"property_survey_number\",\n",
    "                         \"property_type\",\"address\",\"city\",\"zipcode\",\"country\",\"state\",\"company__name\"\n",
    "                        ).annotate(total_remaining_galas= Gala.objects.filter(warehouse__uid=OuterRef('uid'),is_allotted=False\n",
    "                                        ).values('warehouse__uid').annotate(total_remaining_galas=Count('id')).values('total_remaining_galas'))\n",
    "\n",
    "\n",
    "\n",
    "#.get_gala.select_related(\"get_gala_detail\").values(\"uid\",\"gala_number\",\"is_allotted\"\n",
    "#                     ).annotate(total_number_of_galas=Gala.objects.filter(uid))\n",
    "rf = read_frame(get_company)\n",
    "rf"
   ]
  },
  {
   "cell_type": "code",
   "execution_count": 19,
   "id": "5aca95a1",
   "metadata": {},
   "outputs": [],
   "source": [
    "from django.db.models import Prefetch"
   ]
  },
  {
   "cell_type": "code",
   "execution_count": 22,
   "id": "aab705ca",
   "metadata": {},
   "outputs": [],
   "source": [
    "get_remaining_galas = Company.objects.get(name__iexact='OMKAR').get_properties.all().prefetch_related(\n",
    "    Prefetch(\n",
    "        \"get_gala\",\n",
    "        queryset = Gala.objects.filter(is_allotted = False)\n",
    "    )\n",
    ")"
   ]
  },
  {
   "cell_type": "code",
   "execution_count": 23,
   "id": "00a54626",
   "metadata": {},
   "outputs": [
    {
     "data": {
      "text/plain": [
       "<QuerySet [<Property: warehouse 4>, <Property: warehouse 3>]>"
      ]
     },
     "execution_count": 23,
     "metadata": {},
     "output_type": "execute_result"
    }
   ],
   "source": [
    "get_remaining_galas"
   ]
  },
  {
   "cell_type": "code",
   "execution_count": null,
   "id": "044c47ff",
   "metadata": {},
   "outputs": [],
   "source": []
  },
  {
   "cell_type": "code",
   "execution_count": null,
   "id": "fd3a6f77",
   "metadata": {},
   "outputs": [],
   "source": []
  },
  {
   "cell_type": "code",
   "execution_count": null,
   "id": "97bd3e4a",
   "metadata": {},
   "outputs": [],
   "source": []
  },
  {
   "cell_type": "code",
   "execution_count": null,
   "id": "c06a7108",
   "metadata": {},
   "outputs": [],
   "source": []
  },
  {
   "cell_type": "code",
   "execution_count": null,
   "id": "569123f1",
   "metadata": {},
   "outputs": [],
   "source": []
  },
  {
   "cell_type": "code",
   "execution_count": null,
   "id": "a82d7c23",
   "metadata": {},
   "outputs": [],
   "source": []
  },
  {
   "cell_type": "code",
   "execution_count": null,
   "id": "27b95ceb",
   "metadata": {},
   "outputs": [],
   "source": []
  },
  {
   "cell_type": "code",
   "execution_count": null,
   "id": "10de8464",
   "metadata": {},
   "outputs": [],
   "source": []
  },
  {
   "cell_type": "code",
   "execution_count": null,
   "id": "42dce0a4",
   "metadata": {},
   "outputs": [],
   "source": []
  },
  {
   "cell_type": "code",
   "execution_count": null,
   "id": "3689f948",
   "metadata": {},
   "outputs": [],
   "source": []
  },
  {
   "cell_type": "code",
   "execution_count": null,
   "id": "b8ccc83f",
   "metadata": {},
   "outputs": [],
   "source": []
  },
  {
   "cell_type": "code",
   "execution_count": null,
   "id": "e1042954",
   "metadata": {},
   "outputs": [],
   "source": []
  },
  {
   "cell_type": "code",
   "execution_count": null,
   "id": "253acdb5",
   "metadata": {},
   "outputs": [],
   "source": []
  },
  {
   "cell_type": "code",
   "execution_count": null,
   "id": "99dfb2d2",
   "metadata": {},
   "outputs": [],
   "source": []
  },
  {
   "cell_type": "code",
   "execution_count": null,
   "id": "65a81eee",
   "metadata": {},
   "outputs": [],
   "source": []
  },
  {
   "cell_type": "code",
   "execution_count": null,
   "id": "cb7a70d3",
   "metadata": {},
   "outputs": [],
   "source": []
  }
 ],
 "metadata": {
  "kernelspec": {
   "display_name": "Python 3 (ipykernel)",
   "language": "python",
   "name": "python3"
  },
  "language_info": {
   "codemirror_mode": {
    "name": "ipython",
    "version": 3
   },
   "file_extension": ".py",
   "mimetype": "text/x-python",
   "name": "python",
   "nbconvert_exporter": "python",
   "pygments_lexer": "ipython3",
   "version": "3.10.5"
  }
 },
 "nbformat": 4,
 "nbformat_minor": 5
}
